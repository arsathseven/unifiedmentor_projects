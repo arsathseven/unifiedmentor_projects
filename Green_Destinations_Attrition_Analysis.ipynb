{
 "cells": [
  {
   "cell_type": "markdown",
   "id": "17f7c76a",
   "metadata": {},
   "source": [
    "# Attrition Analysis for Green Destinations\n",
    "\n",
    "This notebook computes the attrition rate and examines how **Age**, **Years at Company**, and **Monthly Income** relate to employee attrition at Green Destinations."
   ]
  },
  {
   "cell_type": "code",
   "execution_count": null,
   "id": "e9eaf46c",
   "metadata": {},
   "outputs": [],
   "source": [
    "import pandas as pd\n",
    "import numpy as np\n",
    "import matplotlib.pyplot as plt"
   ]
  },
  {
   "cell_type": "code",
   "execution_count": null,
   "id": "475fd6cb",
   "metadata": {},
   "outputs": [],
   "source": [
    "df = pd.read_csv('/mnt/data/green_destination.csv')\n",
    "df.head()"
   ]
  },
  {
   "cell_type": "code",
   "execution_count": null,
   "id": "e7fee8e6",
   "metadata": {},
   "outputs": [],
   "source": [
    "# 1. Overall Attrition Rate\n",
    "attr_rate = df['Attrition'].value_counts(normalize=True)['Yes'] * 100\n",
    "print(f\"Overall Attrition Rate: {attr_rate:.2f}%\")"
   ]
  },
  {
   "cell_type": "code",
   "execution_count": null,
   "id": "6b49d676",
   "metadata": {},
   "outputs": [],
   "source": [
    "# 2. Attrition by Age Groups\n",
    "bins = [18, 25, 35, 45, 55, 65]\n",
    "df['AgeGroup'] = pd.cut(df['Age'], bins)\n",
    "age_attr = df.groupby('AgeGroup')['Attrition'].value_counts(normalize=True).unstack()\n",
    "print(age_attr)\n",
    "age_attr['Yes'].plot(kind='bar')\n",
    "plt.title('Attrition Rate by Age Group')\n",
    "plt.ylabel('Proportion')\n",
    "plt.show()"
   ]
  },
  {
   "cell_type": "code",
   "execution_count": null,
   "id": "84916cdd",
   "metadata": {},
   "outputs": [],
   "source": [
    "# 3. Attrition by Years at Company\n",
    "bins = [0, 2, 5, 10, 20, 40]\n",
    "df['YACGroup'] = pd.cut(df['YearsAtCompany'], bins)\n",
    "yac_attr = df.groupby('YACGroup')['Attrition'].value_counts(normalize=True).unstack()\n",
    "print(yac_attr)\n",
    "yac_attr['Yes'].plot(kind='bar')\n",
    "plt.title('Attrition Rate by Years at Company')\n",
    "plt.ylabel('Proportion')\n",
    "plt.show()"
   ]
  },
  {
   "cell_type": "code",
   "execution_count": null,
   "id": "c4a05712",
   "metadata": {},
   "outputs": [],
   "source": [
    "# 4. Attrition by Monthly Income Quartiles\n",
    "df['IncomeQ'] = pd.qcut(df['MonthlyIncome'], 4)\n",
    "inc_attr = df.groupby('IncomeQ')['Attrition'].value_counts(normalize=True).unstack()\n",
    "print(inc_attr)\n",
    "inc_attr['Yes'].plot(kind='bar')\n",
    "plt.title('Attrition Rate by Income Quartile')\n",
    "plt.ylabel('Proportion')\n",
    "plt.show()"
   ]
  },
  {
   "cell_type": "code",
   "execution_count": null,
   "id": "591c3c15",
   "metadata": {},
   "outputs": [],
   "source": [
    "# 5. Logistic Regression Analysis\n",
    "from sklearn.linear_model import LogisticRegression\n",
    "from sklearn.preprocessing import LabelEncoder, StandardScaler\n",
    "\n",
    "# Encode Attrition (Yes=1/No=0)\n",
    "le = LabelEncoder()\n",
    "df['Attrition_n'] = le.fit_transform(df['Attrition'])\n",
    "\n",
    "# Features and scaling\n",
    "X = df[['Age', 'YearsAtCompany', 'MonthlyIncome']]\n",
    "scaler = StandardScaler()\n",
    "X_scaled = scaler.fit_transform(X)\n",
    "y = df['Attrition_n']\n",
    "\n",
    "# Fit model\n",
    "model = LogisticRegression()\n",
    "model.fit(X_scaled, y)\n",
    "\n",
    "# Coefficients\n",
    "coefs = pd.Series(model.coef_[0], index=X.columns)\n",
    "print('Logistic Regression Coefficients:')\n",
    "print(coefs)"
   ]
  }
 ],
 "metadata": {},
 "nbformat": 4,
 "nbformat_minor": 5
}
