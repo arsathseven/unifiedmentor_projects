{
 "cells": [
  {
   "cell_type": "markdown",
   "id": "245cdcc1",
   "metadata": {},
   "source": [
    "# Telecom Dataset Statistical Analysis\n",
    "This notebook performs exploratory data analysis and statistical summaries for the telecom dataset."
   ]
  },
  {
   "cell_type": "code",
   "execution_count": null,
   "id": "332b7d35",
   "metadata": {},
   "outputs": [],
   "source": [
    "import pandas as pd\n",
    "import numpy as np\n",
    "import matplotlib.pyplot as plt\n",
    "import seaborn as sns\n",
    "\n",
    "%matplotlib inline"
   ]
  },
  {
   "cell_type": "markdown",
   "id": "7e531325",
   "metadata": {},
   "source": [
    "## Load the dataset"
   ]
  },
  {
   "cell_type": "code",
   "execution_count": null,
   "id": "0533a377",
   "metadata": {},
   "outputs": [],
   "source": [
    "df = pd.read_csv('Telecom Dataset.csv')\n",
    "df.head()"
   ]
  },
  {
   "cell_type": "markdown",
   "id": "1f7696f8",
   "metadata": {},
   "source": [
    "## Dataset Overview"
   ]
  },
  {
   "cell_type": "code",
   "execution_count": null,
   "id": "ebbc3d77",
   "metadata": {},
   "outputs": [],
   "source": [
    "df.info()"
   ]
  },
  {
   "cell_type": "code",
   "execution_count": null,
   "id": "60c47e9c",
   "metadata": {},
   "outputs": [],
   "source": [
    "df.describe(include='all')"
   ]
  },
  {
   "cell_type": "markdown",
   "id": "b5272f34",
   "metadata": {},
   "source": [
    "## Check for Missing Values"
   ]
  },
  {
   "cell_type": "code",
   "execution_count": null,
   "id": "e4dd59e4",
   "metadata": {},
   "outputs": [],
   "source": [
    "df.isnull().sum()"
   ]
  },
  {
   "cell_type": "markdown",
   "id": "294f0534",
   "metadata": {},
   "source": [
    "## Visualizing Feature Distributions"
   ]
  },
  {
   "cell_type": "code",
   "execution_count": null,
   "id": "5f09aac2",
   "metadata": {},
   "outputs": [],
   "source": [
    "# Convert yes/no to binary for analysis\n",
    "yes_no_columns = ['Blue', 'Wi_Fi', 'Tch_Scr', 'Ext_Mem']\n",
    "df[yes_no_columns] = df[yes_no_columns].replace({'yes': 1, 'no': 0})\n",
    "\n",
    "# Plot histograms\n",
    "df.hist(figsize=(15, 12), bins=20)\n",
    "plt.tight_layout()\n",
    "plt.show()"
   ]
  },
  {
   "cell_type": "markdown",
   "id": "58e3680e",
   "metadata": {},
   "source": [
    "## Correlation Heatmap"
   ]
  },
  {
   "cell_type": "code",
   "execution_count": null,
   "id": "319064d1",
   "metadata": {},
   "outputs": [],
   "source": [
    "plt.figure(figsize=(12, 8))\n",
    "sns.heatmap(df.corr(), annot=True, cmap='coolwarm', fmt='.2f')\n",
    "plt.title('Correlation Matrix')\n",
    "plt.show()"
   ]
  },
  {
   "cell_type": "markdown",
   "id": "ddf64fc6",
   "metadata": {},
   "source": [
    "## Price vs. Features"
   ]
  },
  {
   "cell_type": "code",
   "execution_count": null,
   "id": "73a03ecd",
   "metadata": {},
   "outputs": [],
   "source": [
    "features = ['RAM', 'Bty_Pwr', 'Int_Mem', 'Px_h', 'Px_w', 'Weight']\n",
    "for feature in features:\n",
    "    plt.figure(figsize=(6, 4))\n",
    "    sns.scatterplot(x=df[feature], y=df['Price'])\n",
    "    plt.title(f'Price vs {feature}')\n",
    "    plt.show()"
   ]
  },
  {
   "cell_type": "markdown",
   "id": "313c50b6",
   "metadata": {},
   "source": [
    "## Part 2: Linear Regression Model"
   ]
  },
  {
   "cell_type": "code",
   "execution_count": null,
   "id": "dd70efc5",
   "metadata": {},
   "outputs": [],
   "source": [
    "from sklearn.linear_model import LinearRegression\n",
    "from sklearn.model_selection import train_test_split\n",
    "from sklearn.metrics import mean_squared_error, r2_score\n",
    "\n",
    "# Feature selection\n",
    "features = ['RAM', 'Bty_Pwr', 'Int_Mem', 'Px_h', 'Px_w', 'Weight']\n",
    "X = df[features]\n",
    "y = df['Price']\n",
    "\n",
    "# Train-test split\n",
    "X_train, X_test, y_train, y_test = train_test_split(X, y, test_size=0.2, random_state=42)\n",
    "\n",
    "# Fit model\n",
    "model = LinearRegression()\n",
    "model.fit(X_train, y_train)\n",
    "\n",
    "# Predict\n",
    "y_pred = model.predict(X_test)\n",
    "\n",
    "# Results\n",
    "print(\"Coefficients:\", model.coef_)\n",
    "print(\"Intercept:\", model.intercept_)\n",
    "print(\"MSE:\", mean_squared_error(y_test, y_pred))\n",
    "print(\"R^2 Score:\", r2_score(y_test, y_pred))"
   ]
  },
  {
   "cell_type": "markdown",
   "id": "191b31b2",
   "metadata": {},
   "source": [
    "## Part 3: Hypothesis Testing"
   ]
  },
  {
   "cell_type": "code",
   "execution_count": null,
   "id": "d9934e73",
   "metadata": {},
   "outputs": [],
   "source": [
    "import scipy.stats as stats\n",
    "\n",
    "# T-test: Does Bluetooth (Blue) impact price?\n",
    "group1 = df[df['Blue'] == 1]['Price']\n",
    "group0 = df[df['Blue'] == 0]['Price']\n",
    "t_stat, p_value = stats.ttest_ind(group1, group0)\n",
    "print(f\"T-statistic: {t_stat:.2f}, P-value: {p_value:.4f}\")\n",
    "if p_value < 0.05:\n",
    "    print(\"Result: Significant difference in price based on Bluetooth\")\n",
    "else:\n",
    "    print(\"Result: No significant difference\")"
   ]
  },
  {
   "cell_type": "markdown",
   "id": "76bce0f1",
   "metadata": {},
   "source": [
    "## Part 4: Principal Component Analysis (PCA)"
   ]
  },
  {
   "cell_type": "code",
   "execution_count": null,
   "id": "7343728b",
   "metadata": {},
   "outputs": [],
   "source": [
    "from sklearn.decomposition import PCA\n",
    "from sklearn.preprocessing import StandardScaler\n",
    "\n",
    "# Standardize features\n",
    "scaler = StandardScaler()\n",
    "X_scaled = scaler.fit_transform(X)\n",
    "\n",
    "# PCA\n",
    "pca = PCA(n_components=2)\n",
    "components = pca.fit_transform(X_scaled)\n",
    "\n",
    "plt.figure(figsize=(8, 6))\n",
    "plt.scatter(components[:, 0], components[:, 1], c=y, cmap='viridis', edgecolor='k')\n",
    "plt.xlabel('PC1')\n",
    "plt.ylabel('PC2')\n",
    "plt.title('PCA Projection of Telecom Data')\n",
    "plt.colorbar(label='Price')\n",
    "plt.show()"
   ]
  },
  {
   "cell_type": "markdown",
   "id": "2a5d7691",
   "metadata": {},
   "source": [
    "## Part 5: Optimization Insight"
   ]
  },
  {
   "cell_type": "code",
   "execution_count": null,
   "id": "41367539",
   "metadata": {},
   "outputs": [],
   "source": [
    "# Optimization: Find best configuration for highest price\n",
    "top_features = df.sort_values(by='Price', ascending=False)[features].head()\n",
    "top_features"
   ]
  }
 ],
 "metadata": {},
 "nbformat": 4,
 "nbformat_minor": 5
}
