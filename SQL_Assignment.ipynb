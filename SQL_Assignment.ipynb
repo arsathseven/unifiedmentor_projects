{
 "cells": [
  {
   "cell_type": "markdown",
   "id": "3b726b6e",
   "metadata": {},
   "source": [
    "# SQL Assignment: Orders Table Analysis\n",
    "\n",
    "This notebook sets up an SQLite database, creates the **orders** table, inserts data, and answers 10 case study questions using SQL queries displayed via pandas."
   ]
  },
  {
   "cell_type": "code",
   "execution_count": null,
   "id": "4ac8e03c",
   "metadata": {},
   "outputs": [],
   "source": [
    "# 📘 Setup SQLite and Pandas\n",
    "import sqlite3\n",
    "import pandas as pd\n",
    "\n",
    "# Create connection to in-memory SQLite DB\n",
    "conn = sqlite3.connect(\":memory:\")\n",
    "cursor = conn.cursor()\n"
   ]
  },
  {
   "cell_type": "code",
   "execution_count": null,
   "id": "cceaf1e5",
   "metadata": {},
   "outputs": [],
   "source": [
    "# 📦 Create table and insert data\n",
    "cursor.executescript(\"\"\\ \n",
    "CREATE TABLE orders (\n",
    "    customer_id INT,\n",
    "    order_date DATE,\n",
    "    item VARCHAR(100),\n",
    "    quantity INT,\n",
    "    price DECIMAL(10, 2)\n",
    ");\n",
    "\n",
    "INSERT INTO orders (customer_id, order_date, item, quantity, price)\n",
    "VALUES\n",
    "    (10330, '1999-06-30', 'Pogo stick', 1, 28.00),\n",
    "    (10101, '1999-06-30', 'Raft', 1, 58.00),\n",
    "    (10298, '1999-07-01', 'Skateboard', 1, 33.00),\n",
    "    (10101, '1999-07-01', 'Life Vest', 4, 125.00),\n",
    "    (10299, '1999-07-06', 'Parachute', 1, 1250.00),\n",
    "    (10339, '1999-07-27', 'Umbrella', 1, 4.50),\n",
    "    (10449, '1999-08-13', 'Unicycle', 1, 180.79),\n",
    "    (10439, '1999-08-14', 'Ski Poles', 2, 25.50),\n",
    "    (10101, '1999-08-18', 'Rain Coat', 1, 18.30),\n",
    "    (10449, '1999-09-01', 'Snow Shoes', 1, 45.00),\n",
    "    (10439, '1999-09-18', 'Tent', 1, 88.00),\n",
    "    (10298, '1999-09-19', 'Lantern', 2, 29.00),\n",
    "    (10410, '1999-10-28', 'Sleeping Bag', 1, 89.22),\n",
    "    (10438, '1999-11-01', 'Umbrella', 1, 6.75),\n",
    "    (10438, '1999-11-02', 'Pillow', 1, 8.50),\n",
    "    (10298, '1999-12-01', 'Helmet', 1, 22.00),\n",
    "    (10449, '1999-12-15', 'Bicycle', 1, 380.50),\n",
    "    (10449, '1999-12-22', 'Canoe', 1, 280.00),\n",
    "    (10101, '1999-12-30', 'Hoola Hoop', 3, 14.75),\n",
    "    (10330, '2000-01-01', 'Flashlight', 4, 28.00),\n",
    "    (10101, '2000-01-02', 'Lantern', 1, 16.00),\n",
    "    (10299, '2000-01-18', 'Inflatable Mattress', 1, 38.00),\n",
    "    (10438, '2000-01-18', 'Tent', 1, 79.99),\n",
    "    (10413, '2000-01-19', 'Lawnchair', 4, 32.00),\n",
    "    (10410, '2000-01-30', 'Unicycle', 1, 192.50),\n",
    "    (10315, '2000-02-02', 'Compass', 1, 8.00),\n",
    "    (10449, '2000-02-29', 'Flashlight', 1, 4.50),\n",
    "    (10101, '2000-03-08', 'Sleeping Bag', 2, 88.70),\n",
    "    (10298, '2000-03-18', 'Pocket Knife', 1, 22.38),\n",
    "    (10449, '2000-03-19', 'Canoe paddle', 2, 40.00),\n",
    "    (10298, '2000-04-01', 'Ear Muffs', 1, 12.50),\n",
    "    (10330, '2000-04-19', 'Shovel', 1, 16.75);\n",
    "\"\"\")\n",
    "conn.commit()\n"
   ]
  },
  {
   "cell_type": "markdown",
   "id": "40cd4535",
   "metadata": {},
   "source": [
    "### Q1. Items for customer 10449"
   ]
  },
  {
   "cell_type": "code",
   "execution_count": null,
   "id": "0b0cc124",
   "metadata": {},
   "outputs": [],
   "source": [
    "pd.read_sql_query(\"SELECT * FROM orders WHERE customer_id = 10449;\", conn)"
   ]
  },
  {
   "cell_type": "markdown",
   "id": "7354b4a8",
   "metadata": {},
   "source": [
    "### Q2. Avg price in December"
   ]
  },
  {
   "cell_type": "code",
   "execution_count": null,
   "id": "8d2fa257",
   "metadata": {},
   "outputs": [],
   "source": [
    "pd.read_sql_query(\"SELECT AVG(price) FROM orders WHERE strftime('%m', order_date) = '12';\", conn)"
   ]
  },
  {
   "cell_type": "markdown",
   "id": "5414c8e4",
   "metadata": {},
   "source": [
    "### Q3. Lowest tent price"
   ]
  },
  {
   "cell_type": "code",
   "execution_count": null,
   "id": "8ccf49ea",
   "metadata": {},
   "outputs": [],
   "source": [
    "pd.read_sql_query(\"SELECT MIN(price) FROM orders WHERE item = 'Tent';\", conn)"
   ]
  },
  {
   "cell_type": "markdown",
   "id": "87db19e4",
   "metadata": {},
   "source": [
    "### Q4. Max & Min price per item"
   ]
  },
  {
   "cell_type": "code",
   "execution_count": null,
   "id": "40fb8754",
   "metadata": {},
   "outputs": [],
   "source": [
    "pd.read_sql_query(\"SELECT item, MAX(price), MIN(price) FROM orders GROUP BY item;\", conn)"
   ]
  },
  {
   "cell_type": "markdown",
   "id": "eb96d5ac",
   "metadata": {},
   "source": [
    "### Q5. Items with max price > 190"
   ]
  },
  {
   "cell_type": "code",
   "execution_count": null,
   "id": "ba2919b6",
   "metadata": {},
   "outputs": [],
   "source": [
    "pd.read_sql_query(\"SELECT item, MAX(price) FROM orders GROUP BY item HAVING MAX(price) > 190.00;\", conn)"
   ]
  },
  {
   "cell_type": "markdown",
   "id": "0986e9ef",
   "metadata": {},
   "source": [
    "### Q6. Items with price > 10 ASC"
   ]
  },
  {
   "cell_type": "code",
   "execution_count": null,
   "id": "de0ca3ab",
   "metadata": {},
   "outputs": [],
   "source": [
    "pd.read_sql_query(\"SELECT item, price FROM orders WHERE price > 10.00 ORDER BY price ASC;\", conn)"
   ]
  },
  {
   "cell_type": "markdown",
   "id": "09bb69e9",
   "metadata": {},
   "source": [
    "### Q7. Exclude Snow Shoes & Ear Muffs"
   ]
  },
  {
   "cell_type": "code",
   "execution_count": null,
   "id": "1b83cedf",
   "metadata": {},
   "outputs": [],
   "source": [
    "pd.read_sql_query(\"SELECT customer_id, order_date, item FROM orders WHERE item NOT IN ('Snow Shoes', 'Ear Muffs');\", conn)"
   ]
  },
  {
   "cell_type": "markdown",
   "id": "7ede6b89",
   "metadata": {},
   "source": [
    "### Q8. Items starting with S or P"
   ]
  },
  {
   "cell_type": "code",
   "execution_count": null,
   "id": "02ba4ebb",
   "metadata": {},
   "outputs": [],
   "source": [
    "pd.read_sql_query(\"SELECT item, price FROM orders WHERE item LIKE 'S%' OR item LIKE 'P%';\", conn)"
   ]
  },
  {
   "cell_type": "markdown",
   "id": "318cde3b",
   "metadata": {},
   "source": [
    "### Q9. Price between 10 and 80"
   ]
  },
  {
   "cell_type": "code",
   "execution_count": null,
   "id": "935aac57",
   "metadata": {},
   "outputs": [],
   "source": [
    "pd.read_sql_query(\"SELECT order_date, item, price FROM orders WHERE price BETWEEN 10.00 AND 80.00;\", conn)"
   ]
  },
  {
   "cell_type": "markdown",
   "id": "9caff498",
   "metadata": {},
   "source": [
    "### Q10. Unit price per item"
   ]
  },
  {
   "cell_type": "code",
   "execution_count": null,
   "id": "5729ed3b",
   "metadata": {},
   "outputs": [],
   "source": [
    "pd.read_sql_query(\"SELECT item, SUM(price)/SUM(quantity) AS unit_price FROM orders GROUP BY item ORDER BY unit_price DESC;\", conn)"
   ]
  }
 ],
 "metadata": {},
 "nbformat": 4,
 "nbformat_minor": 5
}
