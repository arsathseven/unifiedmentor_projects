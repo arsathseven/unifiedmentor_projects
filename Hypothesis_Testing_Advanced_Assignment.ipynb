{
 "cells": [
  {
   "cell_type": "markdown",
   "metadata": {
    "id": "wEPtWHTN-zvg"
   },
   "source": [
    "# <center> **Hypothesis Testing**"
   ]
  },
  {
   "cell_type": "markdown",
   "metadata": {
    "id": "ayRuyuJ8AClo"
   },
   "source": [
    "### Null & Alternate Hypothesis"
   ]
  },
  {
   "cell_type": "markdown",
   "metadata": {
    "id": "eKtIPPHAA8VC"
   },
   "source": [
    "**Question 1:**\n",
    "Suppose you are conducting a study to determine whether a new drug is effective in reducing blood pressure. Define the null hypothesis (H0) and the alternate hypothesis (H1) for this study. Explain the significance of each hypothesis in the context of your research.\n",
    "\n",
    "**Question 2:**\n",
    "You are working with a manufacturing company that claims its new manufacturing process can produce car batteries with a longer lifespan than the current process. Formulate the null and alternate hypotheses for this scenario. Additionally, explain why it's essential to have clear and well-defined hypotheses before conducting hypothesis testing.\n",
    "\n",
    "**Question 3:**\n",
    "A fast-food restaurant chain is concerned that the average delivery time for online orders has increased in recent months, potentially affecting customer satisfaction. Create the null and alternate hypotheses for testing whether there has been a significant increase in delivery times.\n",
    "\n",
    "*These questions will help you to practice defining and understanding null and alternate hypotheses in various real-world scenarios.*"
   ]
  },
  {
   "cell_type": "code",
   "execution_count": null,
   "metadata": {
    "id": "-D8KGFdxA1RJ"
   },
   "outputs": [],
   "source": []
  },
  {
   "cell_type": "code",
   "execution_count": null,
   "metadata": {
    "id": "cAAfvz0CBC_b"
   },
   "outputs": [],
   "source": []
  },
  {
   "cell_type": "markdown",
   "metadata": {
    "id": "p1Qg6yEBBEDS"
   },
   "source": [
    "### Rejection Region Approach & Z-test Implementation"
   ]
  },
  {
   "cell_type": "markdown",
   "metadata": {
    "id": "Yn8Q2etsCwoA"
   },
   "source": [
    "**Question 1:**\n",
    "You are conducting a Z-test to determine whether the mean score of students in your class is significantly different from the national average. You have collected a sample of 30 student scores, and you know the population standard deviation is 10. Explain the Rejection Region Approach in the context of this test. Provide the formula for calculating the Z-score and describe how you would determine whether to reject the null hypothesis.\n",
    "\n",
    "**Question 2:**\n",
    "A pharmaceutical company is testing a new drug to reduce cholesterol levels in patients. They want to know if the new drug is more effective than the current medication. You have been given data on the cholesterol levels of 50 patients who took the new drug and 50 patients who took the current medication. Using a significance level of 0.05, perform a Z-test to determine if there is a significant difference in cholesterol reduction between the two groups. Show all the steps involved in the test, including setting up the null and alternate hypotheses, calculating the Z-score, and making a decision based on the Rejection Region Approach.\n",
    "\n",
    "**Question 3:**\n",
    "A car manufacturer claims that their new electric car model can travel an average of 250 miles on a single charge. To test this claim, a consumer group selects a random sample of 36 cars from the manufacturer's production line and records their mileage on a single charge. Using the Rejection Region Approach and a significance level of 0.01, conduct a Z-test to determine if there is enough evidence to support the manufacturer's claim. Provide the step-by-step process, including the formulation of hypotheses and the calculation of the Z-score.\n",
    "\n",
    "**Question 4:**\n",
    "A researcher is investigating whether there is a significant difference in the mean salary of employees with a master's degree and those with a bachelor's degree in a particular industry. A random sample of 100 employees with master's degrees and 100 employees with bachelor's degrees is collected. Using the Rejection Region Approach and a significance level of 0.05, perform a Z-test to determine if there is a significant difference in mean salaries between the two groups. Explain how you would set up the null and alternate hypotheses and interpret the results of the test."
   ]
  },
  {
   "cell_type": "code",
   "execution_count": null,
   "metadata": {
    "id": "ftn5OzvxCGuh"
   },
   "outputs": [],
   "source": []
  },
  {
   "cell_type": "code",
   "execution_count": null,
   "metadata": {
    "id": "1a-Zjj-nDK6U"
   },
   "outputs": [],
   "source": []
  },
  {
   "cell_type": "code",
   "execution_count": null,
   "metadata": {
    "id": "ldysyDwNDK8M"
   },
   "outputs": [],
   "source": []
  },
  {
   "cell_type": "code",
   "execution_count": null,
   "metadata": {
    "id": "LbjEW3bLDK-Y"
   },
   "outputs": [],
   "source": []
  },
  {
   "cell_type": "code",
   "execution_count": null,
   "metadata": {
    "id": "NIL0-edIDLAo"
   },
   "outputs": [],
   "source": []
  },
  {
   "cell_type": "markdown",
   "metadata": {
    "id": "h_nDkhsNDL1F"
   },
   "source": [
    "### Type 1 & Type 2 Errors"
   ]
  },
  {
   "cell_type": "markdown",
   "metadata": {
    "id": "hOjnjj0oDuba"
   },
   "source": [
    "**Case Study 1: Medical Testing**\n",
    "\n",
    "**Scenario**:\n",
    "A medical company has developed a new diagnostic test for a rare disease. The test is highly sensitive, meaning it rarely misses true cases of the disease (low Type II error rate). However, the company is concerned about the Type I error rate, as false positives can lead to unnecessary stress and further testing for patients.\n",
    "\n",
    "**Assignment:**\n",
    "\n",
    "1. Describe the potential consequences of a Type I error in this medical testing scenario.\n",
    "2. Explain the potential consequences of a Type II error.\n",
    "3. Discuss the trade-off between Type I and Type II errors in medical testing and how it influences the decision on test thresholds."
   ]
  },
  {
   "cell_type": "code",
   "execution_count": null,
   "metadata": {
    "id": "ryb6enZJDtbu"
   },
   "outputs": [],
   "source": []
  },
  {
   "cell_type": "code",
   "execution_count": null,
   "metadata": {
    "id": "0nRmPbqND7ml"
   },
   "outputs": [],
   "source": []
  },
  {
   "cell_type": "markdown",
   "metadata": {
    "id": "tfnLuuFTD9vi"
   },
   "source": [
    "**Case Study 2: Criminal Justice System**\n",
    "\n",
    "**Scenario:**\n",
    "In a criminal trial, the prosecution aims to convict a defendant based on evidence. The consequences of a wrongful conviction (Type I error) are severe, but so are the consequences of letting a guilty person go free (Type II error).\n",
    "\n",
    "**Assignment:**\n",
    "\n",
    "1. Describe a situation in the criminal justice system where a Type I error can occur and its implications.\n",
    "2. Provide an example of a situation where a Type II error can occur and its potential consequences.\n",
    "3. Discuss the challenges and ethical considerations in finding a balance between minimizing Type I and Type II errors in criminal trials."
   ]
  },
  {
   "cell_type": "code",
   "execution_count": null,
   "metadata": {
    "id": "jiLiOftQErJU"
   },
   "outputs": [],
   "source": []
  },
  {
   "cell_type": "code",
   "execution_count": null,
   "metadata": {
    "id": "-BC1Q4LHEyj1"
   },
   "outputs": [],
   "source": []
  },
  {
   "cell_type": "markdown",
   "metadata": {
    "id": "a-e7ZMn5Ey1G"
   },
   "source": [
    "**Case Study 3: Product Quality Control**\n",
    "\n",
    "**Scenario**:\n",
    "A manufacturing company uses a quality control process to ensure that its products meet specific standards. Rejecting a good product (Type I error) can be costly, while accepting a defective product (Type II error) can harm the company's reputation.\n",
    "\n",
    "**Assignment**:\n",
    "\n",
    "1. Describe a scenario in product quality control where a Type I error may occur and its financial implications.\n",
    "2. Provide an example of a situation where a Type II error can occur and its potential impact on the company's reputation.\n",
    "3. Discuss strategies that the company can implement to strike a balance between minimizing Type I and Type II errors in its quality control process."
   ]
  },
  {
   "cell_type": "code",
   "execution_count": null,
   "metadata": {
    "id": "GLVhNd-jFC6V"
   },
   "outputs": [],
   "source": []
  },
  {
   "cell_type": "code",
   "execution_count": null,
   "metadata": {
    "id": "-nqzh2CnFEJq"
   },
   "outputs": [],
   "source": []
  },
  {
   "cell_type": "markdown",
   "metadata": {
    "id": "Ovd9bNBZFX4c"
   },
   "source": [
    "### P-value Approach & T-test Implementation"
   ]
  },
  {
   "cell_type": "markdown",
   "metadata": {
    "id": "vpIQ8xAZFdN5"
   },
   "source": [
    "**Case Study 1: Education**\n",
    "\n",
    "**Scenario**:\n",
    "A school district is implementing a new teaching method aimed at improving students' math scores. They want to know if the new method is effective. A random sample of 30 students who received the new instruction method is compared to a sample of 30 students who received the traditional method. The district wants to use a t-test to analyze the data.\n",
    "\n",
    "**Assignment:**\n",
    "\n",
    "1. Formulate the null and alternate hypotheses for this study.\n",
    "2. Perform a t-test using the collected data and calculate the t-statistic.\n",
    "3. Calculate the P-value and interpret its significance.\n",
    "Based on the P-value and a significance level of 0.05, make a decision regarding the null hypothesis."
   ]
  },
  {
   "cell_type": "code",
   "execution_count": null,
   "metadata": {
    "id": "juS5rJ3YFb1r"
   },
   "outputs": [],
   "source": []
  },
  {
   "cell_type": "code",
   "execution_count": null,
   "metadata": {
    "id": "54wqJc85GUij"
   },
   "outputs": [],
   "source": []
  },
  {
   "cell_type": "code",
   "execution_count": null,
   "metadata": {
    "id": "dDVCqb2RGU8g"
   },
   "outputs": [],
   "source": []
  },
  {
   "cell_type": "markdown",
   "metadata": {
    "id": "dpeE6GzTGVtT"
   },
   "source": [
    "**Case Study 2: Baseball Player Performance**\n",
    "\n",
    "**Scenario**:\n",
    "You are a data analyst for a professional baseball team. The team's management wants to assess whether a new training program has led to a significant improvement in the batting averages of their players. You have collected batting average data for two groups of players: one group who underwent the new training program (Group A) and another group who did not (Group B).\n",
    "\n",
    "**Data**:\n",
    "\n",
    "**Group A** (New Training Program):\n",
    "\n",
    "Sample Size: 25 players,\n",
    "Mean Batting Average: 0.285,\n",
    "Sample Standard Deviation: 0.040.\n",
    "\n",
    "**Group B** (No Training Program):\n",
    "\n",
    "Sample Size: 30 players,\n",
    "Mean Batting Average: 0.270,\n",
    "Sample Standard Deviation: 0.045.\n",
    "\n",
    "**Assignment:**\n",
    "\n",
    "1. Formulate the null and alternate hypotheses to test whether the new training program has led to a significant improvement in batting averages.\n",
    "2. Conduct a two-sample t-test using the provided data. Calculate the t-statistic.\n",
    "3. Calculate the degrees of freedom for the test.\n",
    "4. Calculate the p-value associated with the test.\n",
    "5. Interpret the results and make a recommendation to the team's management based on the p-value approach."
   ]
  },
  {
   "cell_type": "code",
   "execution_count": null,
   "metadata": {
    "id": "U0J3dfB8HT9P"
   },
   "outputs": [],
   "source": []
  },
  {
   "cell_type": "code",
   "execution_count": null,
   "metadata": {
    "id": "mh8cRgVzHUx3"
   },
   "outputs": [],
   "source": []
  },
  {
   "cell_type": "code",
   "execution_count": null,
   "metadata": {
    "id": "2_-_t6d_HUmO"
   },
   "outputs": [],
   "source": []
  },
  {
   "cell_type": "code",
   "execution_count": null,
   "metadata": {
    "id": "wsHItEvtHVUq"
   },
   "outputs": [],
   "source": []
  },
  {
   "cell_type": "markdown",
   "id": "9ba74db5",
   "metadata": {},
   "source": [
    "## 📈 Advanced Task: Linear Regression\n",
    "Predicting Price using hardware features."
   ]
  },
  {
   "cell_type": "code",
   "execution_count": null,
   "id": "20f5cdb7",
   "metadata": {},
   "outputs": [],
   "source": [
    "from sklearn.linear_model import LinearRegression\n",
    "from sklearn.model_selection import train_test_split\n",
    "from sklearn.metrics import mean_squared_error, r2_score\n",
    "\n",
    "features = ['RAM', 'Bty_Pwr', 'Int_Mem', 'Px_h', 'Px_w', 'Weight']\n",
    "X = df[features]\n",
    "y = df['Price']\n",
    "\n",
    "X_train, X_test, y_train, y_test = train_test_split(X, y, test_size=0.2, random_state=0)\n",
    "\n",
    "lr = LinearRegression()\n",
    "lr.fit(X_train, y_train)\n",
    "y_pred = lr.predict(X_test)\n",
    "\n",
    "print(\"Coefficients:\", lr.coef_)\n",
    "print(\"Intercept:\", lr.intercept_)\n",
    "print(\"MSE:\", mean_squared_error(y_test, y_pred))\n",
    "print(\"R² Score:\", r2_score(y_test, y_pred))"
   ]
  },
  {
   "cell_type": "markdown",
   "id": "717901e5",
   "metadata": {},
   "source": [
    "## 🔢 Advanced Task: Principal Component Analysis (PCA)"
   ]
  },
  {
   "cell_type": "code",
   "execution_count": null,
   "id": "9fea5bf0",
   "metadata": {},
   "outputs": [],
   "source": [
    "from sklearn.decomposition import PCA\n",
    "from sklearn.preprocessing import StandardScaler\n",
    "\n",
    "scaler = StandardScaler()\n",
    "X_scaled = scaler.fit_transform(X)\n",
    "\n",
    "pca = PCA(n_components=2)\n",
    "components = pca.fit_transform(X_scaled)\n",
    "\n",
    "plt.figure(figsize=(8,6))\n",
    "plt.scatter(components[:, 0], components[:, 1], c=y, cmap='viridis', edgecolor='k')\n",
    "plt.xlabel('PC1')\n",
    "plt.ylabel('PC2')\n",
    "plt.title('PCA Projection Colored by Price')\n",
    "plt.colorbar(label='Price')\n",
    "plt.grid(True)\n",
    "plt.show()"
   ]
  },
  {
   "cell_type": "markdown",
   "id": "3cad39d0",
   "metadata": {},
   "source": [
    "## 💡 Advanced Task: Top Configurations for Price"
   ]
  },
  {
   "cell_type": "code",
   "execution_count": null,
   "id": "921aa1a8",
   "metadata": {},
   "outputs": [],
   "source": [
    "# Top 5 price rows with key features\n",
    "df.sort_values(by='Price', ascending=False)[features + ['Price']].head()"
   ]
  }
 ],
 "metadata": {
  "colab": {
   "provenance": []
  },
  "kernelspec": {
   "display_name": "Python 3",
   "name": "python3"
  },
  "language_info": {
   "name": "python"
  }
 },
 "nbformat": 4,
 "nbformat_minor": 0
}
